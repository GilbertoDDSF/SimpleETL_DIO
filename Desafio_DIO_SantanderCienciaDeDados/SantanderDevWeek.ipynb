{
 "cells": [
  {
   "cell_type": "code",
   "execution_count": 28,
   "metadata": {},
   "outputs": [
    {
     "name": "stdout",
     "output_type": "stream",
     "text": [
      "     Nome  Idade                  Cargo\n",
      "0    João     28          Desenvolvedor\n",
      "1   Maria     35      Gerente de Vendas\n",
      "2  Carlos     22             Estagiário\n",
      "3     Ana     30  Analista de Marketing\n",
      "           Idade  Idade_Anos\n",
      "count   4.000000         4.0\n",
      "mean   28.750000         0.0\n",
      "std     5.377422         0.0\n",
      "min    22.000000         0.0\n",
      "25%    26.500000         0.0\n",
      "50%    29.000000         0.0\n",
      "75%    31.250000         0.0\n",
      "max    35.000000         0.0\n"
     ]
    }
   ],
   "source": [
    "import pandas as pd\n",
    "\n",
    "# Lê o arquivo CSV\n",
    "df = pd.read_csv('Desafio_DIO_SantanderCienciaDeDados\\Worker_info.csv')\n",
    "\n",
    "# Exibindo as primeiras linhas do DataFrame\n",
    "print(df.head())\n",
    "\n",
    "# Transformação: Adicionar uma coluna calculada (Idade em Anos)\n",
    "df['Idade_Anos'] = df['Idade'] // 365\n",
    "\n",
    "# Filtrando os funcionários com idade maior ou igual a 30 anos\n",
    "funcionarios_acima_de_30 = df[df['Idade_Anos'] >= 30]\n",
    "\n",
    "# Contando a quantidade de funcionários por cargo\n",
    "contagem_por_cargo = df['Cargo'].value_counts().reset_index()\n",
    "contagem_por_cargo.columns = ['Cargo', 'Quantidade']\n",
    "\n",
    "# Salvando o resultado da transformação em um novo arquivo CSV\n",
    "funcionarios_acima_de_30.to_csv('funcionarios_acima_de_30.csv', index=False)\n",
    "\n",
    "# Salvando a contagem por cargo em um arquivo CSV\n",
    "contagem_por_cargo.to_csv('contagem_por_cargo.csv', index=False)\n",
    "\n",
    "# Exibindo informações estatísticas do DataFrame\n",
    "print(df.describe())\n",
    "\n"
   ]
  }
 ],
 "metadata": {
  "kernelspec": {
   "display_name": "Python 3",
   "language": "python",
   "name": "python3"
  },
  "language_info": {
   "codemirror_mode": {
    "name": "ipython",
    "version": 3
   },
   "file_extension": ".py",
   "mimetype": "text/x-python",
   "name": "python",
   "nbconvert_exporter": "python",
   "pygments_lexer": "ipython3",
   "version": "3.9.13"
  },
  "orig_nbformat": 4
 },
 "nbformat": 4,
 "nbformat_minor": 2
}
